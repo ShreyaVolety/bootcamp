{
 "cells": [
  {
   "cell_type": "markdown",
   "id": "8d60a1c3",
   "metadata": {},
   "source": [
    "# Environment and Config Check"
   ]
  },
  {
   "cell_type": "code",
   "execution_count": 1,
   "id": "7d6d08db",
   "metadata": {},
   "outputs": [],
   "source": [
    "import pandas as pd\n",
    "import numpy as np\n",
    "import sys\n",
    "import os \n",
    "from pathlib import Path\n"
   ]
  },
  {
   "cell_type": "markdown",
   "id": "92da22ed",
   "metadata": {},
   "source": [
    "## Task 1: Create Environment"
   ]
  },
  {
   "cell_type": "code",
   "execution_count": 2,
   "id": "22b0e342",
   "metadata": {},
   "outputs": [
    {
     "name": "stdout",
     "output_type": "stream",
     "text": [
      "Python version: 3.11.13 (main, Jun  5 2025, 08:21:08) [Clang 14.0.6 ]\n",
      "Environment path: /Users/svolety/miniconda3/envs/fe-course/bin/python\n",
      "Package                   Version\n",
      "------------------------- --------------\n",
      "anyio                     4.10.0\n",
      "appnope                   0.1.4\n",
      "argon2-cffi               25.1.0\n",
      "argon2-cffi-bindings      25.1.0\n",
      "arrow                     1.3.0\n",
      "asttokens                 3.0.0\n",
      "async-lru                 2.0.5\n",
      "attrs                     25.3.0\n",
      "babel                     2.17.0\n",
      "beautifulsoup4            4.13.4\n",
      "bleach                    6.2.0\n",
      "certifi                   2025.8.3\n",
      "cffi                      1.17.1\n",
      "charset-normalizer        3.4.3\n",
      "comm                      0.2.3\n",
      "contourpy                 1.3.3\n",
      "cycler                    0.12.1\n",
      "debugpy                   1.8.16\n",
      "decorator                 5.2.1\n",
      "defusedxml                0.7.1\n",
      "executing                 2.2.0\n",
      "fastjsonschema            2.21.2\n",
      "fonttools                 4.59.1\n",
      "fqdn                      1.5.1\n",
      "h11                       0.16.0\n",
      "httpcore                  1.0.9\n",
      "httpx                     0.28.1\n",
      "idna                      3.10\n",
      "ipykernel                 6.30.1\n",
      "ipython                   9.4.0\n",
      "ipython_pygments_lexers   1.1.1\n",
      "ipywidgets                8.1.7\n",
      "isoduration               20.11.0\n",
      "jedi                      0.19.2\n",
      "Jinja2                    3.1.6\n",
      "json5                     0.12.1\n",
      "jsonpointer               3.0.0\n",
      "jsonschema                4.25.0\n",
      "jsonschema-specifications 2025.4.1\n",
      "jupyter                   1.1.1\n",
      "jupyter_client            8.6.3\n",
      "jupyter-console           6.6.3\n",
      "jupyter_core              5.8.1\n",
      "jupyter-events            0.12.0\n",
      "jupyter-lsp               2.2.6\n",
      "jupyter_server            2.16.0\n",
      "jupyter_server_terminals  0.5.3\n",
      "jupyterlab                4.4.5\n",
      "jupyterlab_pygments       0.3.0\n",
      "jupyterlab_server         2.27.3\n",
      "jupyterlab_widgets        3.0.15\n",
      "kiwisolver                1.4.9\n",
      "lark                      1.2.2\n",
      "MarkupSafe                3.0.2\n",
      "matplotlib                3.10.5\n",
      "matplotlib-inline         0.1.7\n",
      "mistune                   3.1.3\n",
      "nbclient                  0.10.2\n",
      "nbconvert                 7.16.6\n",
      "nbformat                  5.10.4\n",
      "nest-asyncio              1.6.0\n",
      "notebook                  7.4.5\n",
      "notebook_shim             0.2.4\n",
      "numpy                     2.3.2\n",
      "overrides                 7.7.0\n",
      "packaging                 25.0\n",
      "pandas                    2.3.1\n",
      "pandocfilters             1.5.1\n",
      "parso                     0.8.4\n",
      "pexpect                   4.9.0\n",
      "pillow                    11.3.0\n",
      "pip                       25.1\n",
      "platformdirs              4.3.8\n",
      "prometheus_client         0.22.1\n",
      "prompt_toolkit            3.0.51\n",
      "psutil                    7.0.0\n",
      "ptyprocess                0.7.0\n",
      "pure_eval                 0.2.3\n",
      "pycparser                 2.22\n",
      "Pygments                  2.19.2\n",
      "pyparsing                 3.2.3\n",
      "python-dateutil           2.9.0.post0\n",
      "python-dotenv             1.1.1\n",
      "python-json-logger        3.3.0\n",
      "pytz                      2025.2\n",
      "PyYAML                    6.0.2\n",
      "pyzmq                     27.0.1\n",
      "referencing               0.36.2\n",
      "requests                  2.32.4\n",
      "rfc3339-validator         0.1.4\n",
      "rfc3986-validator         0.1.1\n",
      "rfc3987-syntax            1.1.0\n",
      "rpds-py                   0.27.0\n",
      "Send2Trash                1.8.3\n",
      "setuptools                78.1.1\n",
      "six                       1.17.0\n",
      "sniffio                   1.3.1\n",
      "soupsieve                 2.7\n",
      "stack-data                0.6.3\n",
      "terminado                 0.18.1\n",
      "tinycss2                  1.4.0\n",
      "tornado                   6.5.2\n",
      "traitlets                 5.14.3\n",
      "types-python-dateutil     2.9.0.20250809\n",
      "typing_extensions         4.14.1\n",
      "tzdata                    2025.2\n",
      "uri-template              1.3.0\n",
      "urllib3                   2.5.0\n",
      "wcwidth                   0.2.13\n",
      "webcolors                 24.11.1\n",
      "webencodings              0.5.1\n",
      "websocket-client          1.8.0\n",
      "wheel                     0.45.1\n",
      "widgetsnbextension        4.0.14\n"
     ]
    }
   ],
   "source": [
    "print(\"Python version:\", sys.version)\n",
    "print(\"Environment path:\", sys.executable)\n",
    "!pip list"
   ]
  },
  {
   "cell_type": "markdown",
   "id": "493ed8a0",
   "metadata": {},
   "source": [
    "## Task 2: Project Scaffold"
   ]
  },
  {
   "cell_type": "code",
   "execution_count": 3,
   "id": "5585be2d",
   "metadata": {},
   "outputs": [
    {
     "data": {
      "text/plain": [
       "['requirements.txt', '.env', 'data', 'notebooks', 'src']"
      ]
     },
     "execution_count": 3,
     "metadata": {},
     "output_type": "execute_result"
    }
   ],
   "source": [
    "os.listdir(Path.cwd().parent)"
   ]
  },
  {
   "cell_type": "markdown",
   "id": "76cbdaf9",
   "metadata": {},
   "source": [
    "## Task 3, 4, 5 : Secrets/ Config Helper/Numpy app"
   ]
  },
  {
   "cell_type": "code",
   "execution_count": null,
   "id": "1621d1c8",
   "metadata": {},
   "outputs": [
    {
     "name": "stdout",
     "output_type": "stream",
     "text": [
      "API_KEY: dummy_key_123\n",
      "DATA_DIR: ./data\n",
      "List average: 4.5\n",
      "List sum: 36\n",
      "List standard dev: 2.29128784747792\n"
     ]
    }
   ],
   "source": [
    "config_path = Path.cwd().parent / \"src\"\n",
    "sys.path.append(str(config_path))\n",
    "\n",
    "from config import *\n",
    "from utils import *\n",
    "\n",
    "env_path = Path.cwd().parent / \".env\"\n",
    "sys.path.append(str(env_path))\n",
    "\n",
    "lst = np.arange(1,9)\n",
    "\n",
    "try:\n",
    "    load_env(env_path)\n",
    "    api_key = get_key(\"API_KEY\")\n",
    "    print(\"API_KEY:\", api_key)\n",
    "    \n",
    "    data_path = get_key(\"DATA_DIR\")\n",
    "    print(\"DATA_DIR:\", data_path)\n",
    "\n",
    "    small_op(lst) #numpy operation\n",
    "\n",
    "\n",
    "except Exception as e:\n",
    "    print(f\"Error retrieving key: {e}\")\n",
    "    api_key, data_path = None, None\n"
   ]
  },
  {
   "cell_type": "markdown",
   "id": "52b14186",
   "metadata": {},
   "source": []
  }
 ],
 "metadata": {
  "kernelspec": {
   "display_name": "fe-course",
   "language": "python",
   "name": "python3"
  },
  "language_info": {
   "codemirror_mode": {
    "name": "ipython",
    "version": 3
   },
   "file_extension": ".py",
   "mimetype": "text/x-python",
   "name": "python",
   "nbconvert_exporter": "python",
   "pygments_lexer": "ipython3",
   "version": "3.11.13"
  }
 },
 "nbformat": 4,
 "nbformat_minor": 5
}
