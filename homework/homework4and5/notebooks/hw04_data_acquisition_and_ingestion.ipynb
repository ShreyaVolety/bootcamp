{
 "cells": [
  {
   "cell_type": "markdown",
   "id": "a83d458b",
   "metadata": {},
   "source": [
    "# Homework 4: Data Acquisition and Ingestion"
   ]
  },
  {
   "cell_type": "markdown",
   "id": "b11a7ce8",
   "metadata": {},
   "source": [
    "## Task 1: API Pull"
   ]
  },
  {
   "cell_type": "markdown",
   "id": "a7731d08",
   "metadata": {},
   "source": [
    "Loading environment variables below.\n",
    "\n",
    "I've used the FMP API for the data below, with yfinance as fallback - this is because Alpha Advantage's Time series endpoint is not freely available. "
   ]
  },
  {
   "cell_type": "code",
   "execution_count": 7,
   "id": "5dd90499",
   "metadata": {},
   "outputs": [],
   "source": [
    "import os\n",
    "import json\n",
    "import time\n",
    "import datetime\n",
    "from datetime import datetime\n",
    "from pathlib import Path\n",
    "import pandas as pd\n",
    "import bs4\n",
    "from bs4 import BeautifulSoup\n",
    "import requests\n",
    "import pandas as pd\n",
    "import sys\n",
    "import yfinance\n",
    "\n",
    "%reload_ext autoreload\n",
    "%autoreload 2\n",
    "\n",
    "\n",
    "config_path = Path.cwd().parent / \"src\"\n",
    "sys.path.append(str(config_path))\n",
    "\n",
    "from config import *\n",
    "from utils import *\n",
    "\n",
    "env_path = Path.cwd().parent / \".env\"\n",
    "\n",
    "load_env(env_path)\n",
    "\n",
    "try:\n",
    "    fmp_key = get_key(\"API_KEY\")\n",
    "    #print(f'''Loaded api key: {fmp_key}''')\n",
    "\n",
    "except Exception as e:\n",
    "    print(f'''Error retrieving key: {e} and yfinance will be used instead''')"
   ]
  },
  {
   "cell_type": "markdown",
   "id": "5735f761",
   "metadata": {},
   "source": [
    "Below pulls raw data, and saves down 1 year's worth of adjusted close prices for the given ticker. It raises a flag if date/adjclose are not part of the response of the API response"
   ]
  },
  {
   "cell_type": "code",
   "execution_count": 2,
   "id": "ec51670c",
   "metadata": {},
   "outputs": [],
   "source": [
    "ticker = \"AAPL\"\n",
    "use_api = bool(fmp_key)\n",
    "\n",
    "end_date, start_date = year_date_interval_creator()\n",
    "if use_api:\n",
    "\n",
    "    url = f\"https://financialmodelingprep.com/api/v3/historical-price-full/{ticker}\"\n",
    "    params = {\n",
    "        \"apikey\": fmp_key,\n",
    "        \"from\": end_date.strftime(\"%Y-%m-%d\"),\n",
    "        \"to\": start_date.strftime(\"%Y-%m-%d\") \n",
    "    }\n",
    "    r = requests.get(url, params=params)\n",
    "    data = r.json()\n",
    "    historical = data.get(\"historical\", [])\n",
    "    key = [k for k in historical if \"adjClose\" in k.keys() or \"date\" in k.keys()]\n",
    "    assert key, f\"Unexpected response keys: {list (data.keys())}\"\n",
    "    df_raw_api = pd.DataFrame(historical)\n",
    "    df_raw_api['date'] = pd.to_datetime(df_raw_api['date'])\n",
    "    df_raw_api['adjClose']=pd.to_numeric(df_raw_api['adjClose'])\n",
    "    df_raw_api = df_raw_api[['date','adjClose']]\n",
    "\n",
    "else:\n",
    "\n",
    "    import yfinance as yf\n",
    "    df_raw_api = yf.download(ticker, period=\"1y\", interval=\"1d\",auto_adjust=True).reset_index()[[('Date',''), ('Close',ticker)]]\n",
    "    df_raw_api.columns = ['date','adjClose']\n",
    "    df_raw_api['date'] = pd.to_datetime(df_raw_api['date'])\n",
    "    df_raw_api['adjClose']=pd.to_numeric(df_raw_api['adjClose'])\n",
    "\n"
   ]
  },
  {
   "cell_type": "markdown",
   "id": "ed3e015a",
   "metadata": {},
   "source": [
    "Data pulled is validated and saved using functions from the utils module."
   ]
  },
  {
   "cell_type": "code",
   "execution_count": 8,
   "id": "4fe0044f",
   "metadata": {},
   "outputs": [
    {
     "name": "stdout",
     "output_type": "stream",
     "text": [
      "Saved: /Users/svolety/Desktop/bootcamp IV/bootcamp/homework/homework4and5/data/raw/api_source-fmp_symbol-AAPL_20250816-204301.csv\n"
     ]
    }
   ],
   "source": [
    "msg_dict = validate_df(df_raw_api,['date','adjClose'],{'date':'datetime64[ns]','adjClose':'float64'})\n",
    "msg_dict\n",
    "\n",
    "fname = safe_filename(prefix=\"api\", meta={\"source\": \"fmp\" if use_api else \"yfinance\", \"symbol\": ticker})\n",
    "raw_data_path = Path.cwd().parent / \"data\" / \"raw\"\n",
    "out_path = raw_data_path / fname\n",
    "df_raw_api.to_csv(out_path, index=False)\n",
    "print(\"Saved:\", out_path)"
   ]
  },
  {
   "cell_type": "markdown",
   "id": "a0b4f411",
   "metadata": {},
   "source": [
    "## Task 2: Web Scraping"
   ]
  },
  {
   "cell_type": "markdown",
   "id": "dea5be3e",
   "metadata": {},
   "source": [
    "Most websites with market data - yfinance/morningstar/fmp/alphaadvantage - either block requests or I need to use selenium to run the JS and pull data from the table. (otherwise it pulls a blank table) I'll return to this part of the assignment post lecture on Monday."
   ]
  }
 ],
 "metadata": {
  "kernelspec": {
   "display_name": "fe-course",
   "language": "python",
   "name": "python3"
  },
  "language_info": {
   "codemirror_mode": {
    "name": "ipython",
    "version": 3
   },
   "file_extension": ".py",
   "mimetype": "text/x-python",
   "name": "python",
   "nbconvert_exporter": "python",
   "pygments_lexer": "ipython3",
   "version": "3.11.13"
  }
 },
 "nbformat": 4,
 "nbformat_minor": 5
}
