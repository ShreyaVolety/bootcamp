{
 "cells": [
  {
   "cell_type": "markdown",
   "id": "d42fea39",
   "metadata": {},
   "source": [
    "## Project Description:\n",
    "\n",
    "The problem is to systematically identify and model oil risk regimes so portfolio strategies can adapt to regime changes, improving risk-adjusted performance and downside protection."
   ]
  },
  {
   "cell_type": "markdown",
   "id": "8e4210e5",
   "metadata": {},
   "source": [
    "### Milestone #1: Setting up folders structures and README.md files"
   ]
  },
  {
   "cell_type": "markdown",
   "id": "01aad98b",
   "metadata": {},
   "source": [
    "### Milestone #2: Pull data required from yfinance"
   ]
  },
  {
   "cell_type": "code",
   "execution_count": 1,
   "id": "deb127d7",
   "metadata": {},
   "outputs": [],
   "source": [
    "import os\n",
    "import json\n",
    "import time\n",
    "import datetime\n",
    "from datetime import datetime\n",
    "from pathlib import Path\n",
    "import pandas as pd\n",
    "import bs4\n",
    "from bs4 import BeautifulSoup\n",
    "import requests\n",
    "import pandas as pd\n",
    "import sys\n",
    "import yfinance"
   ]
  },
  {
   "cell_type": "code",
   "execution_count": 2,
   "id": "5c401f71",
   "metadata": {},
   "outputs": [],
   "source": [
    "config_path = Path.cwd().parent / \"src\"\n",
    "sys.path.append(str(config_path))\n",
    "\n",
    "from config import *\n",
    "from utils import *"
   ]
  },
  {
   "cell_type": "markdown",
   "id": "54b0fe20",
   "metadata": {},
   "source": [
    "## Tickers used:\n",
    "\n",
    "**CL=F** - WTI Crude Oil Futures; spot/near-month oil price proxy <br>\n",
    "**UUP** - Invesco DB US Dollar Index Bullish Fund; tracks USD vs major currencies <br>\n",
    "**GLD** - SPDR Gold Shares; tracks gold price <br>\n",
    "**^VIX** - CBOE Volatility Index; implied volatility on S&P 500 options <br>\n",
    "**^OVX** - CBOE Crude Oil Volatility Index; oil volatility <br>\n",
    "**SHY** - iShares 1–3 Year Treasury Bond ETF; short-term US Treasuries <br>\n",
    "**IEF** - iShares 7–10 Year Treasury Bond ETF; intermediate-term US Treasuries <br>\n",
    "**TIP** - iShares TIPS Bond ETF; US Treasury Inflation-Protected Securities <br>"
   ]
  },
  {
   "cell_type": "code",
   "execution_count": 6,
   "id": "e16ae165",
   "metadata": {},
   "outputs": [],
   "source": [
    "#using ishares proxies for short-term/intermediate-term/TIPS due to data availabiltiy in yfinance"
   ]
  },
  {
   "cell_type": "code",
   "execution_count": null,
   "id": "1f453503",
   "metadata": {},
   "outputs": [
    {
     "name": "stderr",
     "output_type": "stream",
     "text": [
      "[*********************100%***********************]  1 of 1 completed\n"
     ]
    },
    {
     "name": "stdout",
     "output_type": "stream",
     "text": [
      "{'na_total': 'Total NA values: 0'}\n",
      "Saved: /Users/svolety/Desktop/bootcamp IV/bootcamp/project/data/raw/api_source-yfinance_symbol-CL=F_20250822-234148.csv\n"
     ]
    },
    {
     "name": "stderr",
     "output_type": "stream",
     "text": [
      "HTTP Error 404: \n",
      "[*********************100%***********************]  1 of 1 completed\n",
      "\n",
      "1 Failed download:\n",
      "['CL=F1']: YFPricesMissingError('possibly delisted; no price data found  (period=5y) (Yahoo error = \"No data found, symbol may be delisted\")')\n"
     ]
    },
    {
     "name": "stdout",
     "output_type": "stream",
     "text": [
      "{'na_total': 'Total NA values: 0'}\n",
      "Saved: /Users/svolety/Desktop/bootcamp IV/bootcamp/project/data/raw/api_source-yfinance_symbol-CL=F1_20250822-234149.csv\n"
     ]
    },
    {
     "name": "stderr",
     "output_type": "stream",
     "text": [
      "[*********************100%***********************]  1 of 1 completed\n",
      "[*********************100%***********************]  1 of 1 completed\n"
     ]
    },
    {
     "name": "stdout",
     "output_type": "stream",
     "text": [
      "{'na_total': 'Total NA values: 0'}\n",
      "Saved: /Users/svolety/Desktop/bootcamp IV/bootcamp/project/data/raw/api_source-yfinance_symbol-UUP_20250822-234149.csv\n",
      "{'na_total': 'Total NA values: 0'}\n",
      "Saved: /Users/svolety/Desktop/bootcamp IV/bootcamp/project/data/raw/api_source-yfinance_symbol-GLD_20250822-234150.csv\n"
     ]
    },
    {
     "name": "stderr",
     "output_type": "stream",
     "text": [
      "[*********************100%***********************]  1 of 1 completed\n",
      "[*********************100%***********************]  1 of 1 completed\n"
     ]
    },
    {
     "name": "stdout",
     "output_type": "stream",
     "text": [
      "{'na_total': 'Total NA values: 0'}\n",
      "Saved: /Users/svolety/Desktop/bootcamp IV/bootcamp/project/data/raw/api_source-yfinance_symbol-^VIX_20250822-234150.csv\n",
      "{'na_total': 'Total NA values: 0'}\n",
      "Saved: /Users/svolety/Desktop/bootcamp IV/bootcamp/project/data/raw/api_source-yfinance_symbol-^OVX_20250822-234150.csv\n"
     ]
    },
    {
     "name": "stderr",
     "output_type": "stream",
     "text": [
      "[*********************100%***********************]  1 of 1 completed\n"
     ]
    },
    {
     "name": "stdout",
     "output_type": "stream",
     "text": [
      "{'na_total': 'Total NA values: 0'}\n",
      "Saved: /Users/svolety/Desktop/bootcamp IV/bootcamp/project/data/raw/api_source-yfinance_symbol-SHY_20250822-234150.csv\n"
     ]
    },
    {
     "name": "stderr",
     "output_type": "stream",
     "text": [
      "[*********************100%***********************]  1 of 1 completed\n"
     ]
    },
    {
     "name": "stdout",
     "output_type": "stream",
     "text": [
      "{'na_total': 'Total NA values: 0'}\n",
      "Saved: /Users/svolety/Desktop/bootcamp IV/bootcamp/project/data/raw/api_source-yfinance_symbol-IEF_20250822-234150.csv\n"
     ]
    },
    {
     "name": "stderr",
     "output_type": "stream",
     "text": [
      "[*********************100%***********************]  1 of 1 completed"
     ]
    },
    {
     "name": "stdout",
     "output_type": "stream",
     "text": [
      "{'na_total': 'Total NA values: 0'}\n",
      "Saved: /Users/svolety/Desktop/bootcamp IV/bootcamp/project/data/raw/api_source-yfinance_symbol-TIP_20250822-234151.csv\n"
     ]
    },
    {
     "name": "stderr",
     "output_type": "stream",
     "text": [
      "\n"
     ]
    }
   ],
   "source": [
    "tickerlist = ['CL=F','UUP','GLD','^VIX','^OVX','SHY','IEF','TIP']\n",
    "use_api = False\n",
    "period = \"5y\"\n",
    "interval = \"1d\"\n",
    "import yfinance as yf\n",
    "\n",
    "for ticker in tickerlist:\n",
    "    df_raw_api = yf.download(ticker, period=period, interval=interval,auto_adjust=True).reset_index()[[('Date',''), ('Close',ticker)]]\n",
    "    df_raw_api.columns = ['date','adjClose']\n",
    "    df_raw_api['date'] = pd.to_datetime(df_raw_api['date'])\n",
    "    df_raw_api['adjClose']=pd.to_numeric(df_raw_api['adjClose'])\n",
    "    msg_dict = validate_df(df_raw_api,['date','adjClose'],{'date':'datetime64[ns]','adjClose':'float64'})\n",
    "    print(msg_dict)\n",
    "\n",
    "    fname = safe_filename(prefix=\"api\", meta={\"source\": \"fmp\" if use_api else \"yfinance\", \"symbol\": ticker})\n",
    "    raw_data_path = Path.cwd().parent / \"data\" / \"raw\"\n",
    "    out_path = raw_data_path / fname\n",
    "    df_raw_api.to_csv(out_path, index=False)\n",
    "    print(\"Saved:\", out_path)"
   ]
  },
  {
   "cell_type": "markdown",
   "id": "9a25033f",
   "metadata": {},
   "source": [
    "### Milestone #4,5,6: Clean and store data"
   ]
  },
  {
   "cell_type": "code",
   "execution_count": 4,
   "id": "2f1a85c6",
   "metadata": {},
   "outputs": [],
   "source": [
    "processed_data_path = Path.cwd().parent / \"data\" / \"processed\"\n",
    "raw_data_path = Path.cwd().parent / \"data\" / \"raw\"\n",
    "tickerlist = ['CL=F','UUP','GLD','^VIX','^OVX','SHY','IEF','TIP']\n",
    "files = read_and_concat(tickerlist,str(raw_data_path),str(processed_data_path) )"
   ]
  },
  {
   "cell_type": "code",
   "execution_count": null,
   "id": "a355483e",
   "metadata": {},
   "outputs": [],
   "source": [
    "missing_dates = check_missing_dates(files)\n",
    "missing_dates = list(set(missing_dates))\n",
    "for i in range(len(missing_dates)):\n",
    "    missing_dates[i] = missing_dates[i].strftime(\"%Y-%m-%d\")"
   ]
  },
  {
   "cell_type": "code",
   "execution_count": 24,
   "id": "4ad4f23a",
   "metadata": {},
   "outputs": [
    {
     "name": "stdout",
     "output_type": "stream",
     "text": [
      "DatetimeIndex(['2015-08-24', '2015-08-25', '2015-08-26', '2015-08-27',\n",
      "               '2015-08-28', '2015-08-31', '2015-09-01', '2015-09-02',\n",
      "               '2015-09-03', '2015-09-04',\n",
      "               ...\n",
      "               '2025-08-07', '2025-08-08', '2025-08-11', '2025-08-12',\n",
      "               '2025-08-13', '2025-08-14', '2025-08-15', '2025-08-18',\n",
      "               '2025-08-19', '2025-08-20'],\n",
      "              dtype='datetime64[ns]', length=2513, freq=None)\n"
     ]
    }
   ],
   "source": [
    "end_date, start_date = year_date_interval_creator()\n",
    "end_date = end_date.strftime(\"%Y-%m-%d\")\n",
    "start_date = start_date.strftime(\"%Y-%m-%d\")\n",
    "holidays = get_holidays(start_date,end_date)"
   ]
  },
  {
   "cell_type": "code",
   "execution_count": 25,
   "id": "15072bd9",
   "metadata": {},
   "outputs": [],
   "source": [
    "count = 0\n",
    "drop_dates = []\n",
    "for date in missing_dates:\n",
    "    if date in holidays:\n",
    "        count+=1\n",
    "\n",
    "if count==len(missing_dates):\n",
    "    drop_dates = missing_dates"
   ]
  },
  {
   "cell_type": "code",
   "execution_count": 60,
   "id": "cc265dd6",
   "metadata": {},
   "outputs": [],
   "source": [
    "processed_df = concat_and_save(files,drop_dates)"
   ]
  },
  {
   "cell_type": "code",
   "execution_count": 64,
   "id": "c9474a5e",
   "metadata": {},
   "outputs": [
    {
     "data": {
      "text/html": [
       "<div>\n",
       "<style scoped>\n",
       "    .dataframe tbody tr th:only-of-type {\n",
       "        vertical-align: middle;\n",
       "    }\n",
       "\n",
       "    .dataframe tbody tr th {\n",
       "        vertical-align: top;\n",
       "    }\n",
       "\n",
       "    .dataframe thead th {\n",
       "        text-align: right;\n",
       "    }\n",
       "</style>\n",
       "<table border=\"1\" class=\"dataframe\">\n",
       "  <thead>\n",
       "    <tr style=\"text-align: right;\">\n",
       "      <th></th>\n",
       "      <th>Date</th>\n",
       "      <th>CL=F</th>\n",
       "      <th>UUP</th>\n",
       "      <th>GLD</th>\n",
       "      <th>^VIX</th>\n",
       "      <th>^OVX</th>\n",
       "      <th>SHY</th>\n",
       "      <th>IEF</th>\n",
       "      <th>TIP</th>\n",
       "    </tr>\n",
       "  </thead>\n",
       "  <tbody>\n",
       "    <tr>\n",
       "      <th>0</th>\n",
       "      <td>2020-08-20</td>\n",
       "      <td>42.580002</td>\n",
       "      <td>22.342087</td>\n",
       "      <td>183.500000</td>\n",
       "      <td>22.719999</td>\n",
       "      <td>32.830002</td>\n",
       "      <td>77.537857</td>\n",
       "      <td>108.536964</td>\n",
       "      <td>104.350189</td>\n",
       "    </tr>\n",
       "    <tr>\n",
       "      <th>1</th>\n",
       "      <td>2020-08-21</td>\n",
       "      <td>42.340000</td>\n",
       "      <td>22.449070</td>\n",
       "      <td>182.029999</td>\n",
       "      <td>22.540001</td>\n",
       "      <td>33.680000</td>\n",
       "      <td>77.528900</td>\n",
       "      <td>108.617058</td>\n",
       "      <td>104.707382</td>\n",
       "    </tr>\n",
       "    <tr>\n",
       "      <th>2</th>\n",
       "      <td>2020-08-24</td>\n",
       "      <td>42.619999</td>\n",
       "      <td>22.484734</td>\n",
       "      <td>181.000000</td>\n",
       "      <td>22.370001</td>\n",
       "      <td>32.250000</td>\n",
       "      <td>77.519936</td>\n",
       "      <td>108.465836</td>\n",
       "      <td>104.915039</td>\n",
       "    </tr>\n",
       "    <tr>\n",
       "      <th>3</th>\n",
       "      <td>2020-08-25</td>\n",
       "      <td>43.349998</td>\n",
       "      <td>22.404493</td>\n",
       "      <td>181.220001</td>\n",
       "      <td>22.030001</td>\n",
       "      <td>33.029999</td>\n",
       "      <td>77.528900</td>\n",
       "      <td>108.207924</td>\n",
       "      <td>104.881805</td>\n",
       "    </tr>\n",
       "    <tr>\n",
       "      <th>4</th>\n",
       "      <td>2020-08-26</td>\n",
       "      <td>43.389999</td>\n",
       "      <td>22.377748</td>\n",
       "      <td>183.360001</td>\n",
       "      <td>23.270000</td>\n",
       "      <td>33.790001</td>\n",
       "      <td>77.528900</td>\n",
       "      <td>108.163422</td>\n",
       "      <td>105.089485</td>\n",
       "    </tr>\n",
       "    <tr>\n",
       "      <th>...</th>\n",
       "      <td>...</td>\n",
       "      <td>...</td>\n",
       "      <td>...</td>\n",
       "      <td>...</td>\n",
       "      <td>...</td>\n",
       "      <td>...</td>\n",
       "      <td>...</td>\n",
       "      <td>...</td>\n",
       "      <td>...</td>\n",
       "    </tr>\n",
       "    <tr>\n",
       "      <th>1251</th>\n",
       "      <td>2025-08-14</td>\n",
       "      <td>63.959999</td>\n",
       "      <td>27.430000</td>\n",
       "      <td>307.250000</td>\n",
       "      <td>14.830000</td>\n",
       "      <td>35.959999</td>\n",
       "      <td>82.699997</td>\n",
       "      <td>95.419998</td>\n",
       "      <td>110.250000</td>\n",
       "    </tr>\n",
       "    <tr>\n",
       "      <th>1252</th>\n",
       "      <td>2025-08-15</td>\n",
       "      <td>62.799999</td>\n",
       "      <td>27.340000</td>\n",
       "      <td>307.429993</td>\n",
       "      <td>15.090000</td>\n",
       "      <td>37.220001</td>\n",
       "      <td>82.669998</td>\n",
       "      <td>95.230003</td>\n",
       "      <td>110.040001</td>\n",
       "    </tr>\n",
       "    <tr>\n",
       "      <th>1253</th>\n",
       "      <td>2025-08-18</td>\n",
       "      <td>63.419998</td>\n",
       "      <td>27.410000</td>\n",
       "      <td>306.950012</td>\n",
       "      <td>14.990000</td>\n",
       "      <td>32.150002</td>\n",
       "      <td>82.669998</td>\n",
       "      <td>95.139999</td>\n",
       "      <td>109.919998</td>\n",
       "    </tr>\n",
       "    <tr>\n",
       "      <th>1254</th>\n",
       "      <td>2025-08-19</td>\n",
       "      <td>62.349998</td>\n",
       "      <td>27.480000</td>\n",
       "      <td>305.269989</td>\n",
       "      <td>15.570000</td>\n",
       "      <td>33.040001</td>\n",
       "      <td>82.709999</td>\n",
       "      <td>95.379997</td>\n",
       "      <td>110.029999</td>\n",
       "    </tr>\n",
       "    <tr>\n",
       "      <th>1255</th>\n",
       "      <td>2025-08-20</td>\n",
       "      <td>62.610001</td>\n",
       "      <td>27.450001</td>\n",
       "      <td>307.549988</td>\n",
       "      <td>16.410000</td>\n",
       "      <td>33.150002</td>\n",
       "      <td>82.754997</td>\n",
       "      <td>95.514999</td>\n",
       "      <td>110.190002</td>\n",
       "    </tr>\n",
       "  </tbody>\n",
       "</table>\n",
       "<p>1256 rows × 9 columns</p>\n",
       "</div>"
      ],
      "text/plain": [
       "            Date       CL=F        UUP         GLD       ^VIX       ^OVX  \\\n",
       "0     2020-08-20  42.580002  22.342087  183.500000  22.719999  32.830002   \n",
       "1     2020-08-21  42.340000  22.449070  182.029999  22.540001  33.680000   \n",
       "2     2020-08-24  42.619999  22.484734  181.000000  22.370001  32.250000   \n",
       "3     2020-08-25  43.349998  22.404493  181.220001  22.030001  33.029999   \n",
       "4     2020-08-26  43.389999  22.377748  183.360001  23.270000  33.790001   \n",
       "...          ...        ...        ...         ...        ...        ...   \n",
       "1251  2025-08-14  63.959999  27.430000  307.250000  14.830000  35.959999   \n",
       "1252  2025-08-15  62.799999  27.340000  307.429993  15.090000  37.220001   \n",
       "1253  2025-08-18  63.419998  27.410000  306.950012  14.990000  32.150002   \n",
       "1254  2025-08-19  62.349998  27.480000  305.269989  15.570000  33.040001   \n",
       "1255  2025-08-20  62.610001  27.450001  307.549988  16.410000  33.150002   \n",
       "\n",
       "            SHY         IEF         TIP  \n",
       "0     77.537857  108.536964  104.350189  \n",
       "1     77.528900  108.617058  104.707382  \n",
       "2     77.519936  108.465836  104.915039  \n",
       "3     77.528900  108.207924  104.881805  \n",
       "4     77.528900  108.163422  105.089485  \n",
       "...         ...         ...         ...  \n",
       "1251  82.699997   95.419998  110.250000  \n",
       "1252  82.669998   95.230003  110.040001  \n",
       "1253  82.669998   95.139999  109.919998  \n",
       "1254  82.709999   95.379997  110.029999  \n",
       "1255  82.754997   95.514999  110.190002  \n",
       "\n",
       "[1256 rows x 9 columns]"
      ]
     },
     "execution_count": 64,
     "metadata": {},
     "output_type": "execute_result"
    }
   ],
   "source": [
    "processed_df"
   ]
  },
  {
   "cell_type": "code",
   "execution_count": 63,
   "id": "07428bdc",
   "metadata": {},
   "outputs": [],
   "source": [
    "processed_df.to_csv(str(processed_data_path)+'/api_data_cleaned_merged.csv')"
   ]
  },
  {
   "cell_type": "markdown",
   "id": "ca13eae2",
   "metadata": {},
   "source": [
    "### Milestone #7,#8 - Outlier Analysis and EDA"
   ]
  },
  {
   "cell_type": "code",
   "execution_count": null,
   "id": "1d0d590e",
   "metadata": {},
   "outputs": [],
   "source": []
  }
 ],
 "metadata": {
  "kernelspec": {
   "display_name": "fe-course",
   "language": "python",
   "name": "python3"
  },
  "language_info": {
   "codemirror_mode": {
    "name": "ipython",
    "version": 3
   },
   "file_extension": ".py",
   "mimetype": "text/x-python",
   "name": "python",
   "nbconvert_exporter": "python",
   "pygments_lexer": "ipython3",
   "version": "3.11.13"
  }
 },
 "nbformat": 4,
 "nbformat_minor": 5
}
