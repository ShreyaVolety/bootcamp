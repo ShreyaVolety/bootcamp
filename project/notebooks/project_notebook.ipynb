{
 "cells": [
  {
   "cell_type": "markdown",
   "id": "d42fea39",
   "metadata": {},
   "source": [
    "## Project Description:\n",
    "\n",
    "The problem is to systematically identify and model oil risk regimes so portfolio strategies can adapt to regime changes, improving risk-adjusted performance and downside protection."
   ]
  },
  {
   "cell_type": "markdown",
   "id": "8e4210e5",
   "metadata": {},
   "source": [
    "### Milestone #1: Setting up folders structures and README.md files"
   ]
  },
  {
   "cell_type": "markdown",
   "id": "01aad98b",
   "metadata": {},
   "source": [
    "### Milestone #2: Pull data required from yfinance"
   ]
  },
  {
   "cell_type": "code",
   "execution_count": 1,
   "id": "deb127d7",
   "metadata": {},
   "outputs": [],
   "source": [
    "import os\n",
    "import json\n",
    "import time\n",
    "import datetime\n",
    "from datetime import datetime\n",
    "from pathlib import Path\n",
    "import pandas as pd\n",
    "import bs4\n",
    "from bs4 import BeautifulSoup\n",
    "import requests\n",
    "import pandas as pd\n",
    "import sys\n",
    "import yfinance"
   ]
  },
  {
   "cell_type": "code",
   "execution_count": 2,
   "id": "5c401f71",
   "metadata": {},
   "outputs": [],
   "source": [
    "config_path = Path.cwd().parent / \"src\"\n",
    "sys.path.append(str(config_path))\n",
    "\n",
    "from config import *\n",
    "from utils import *"
   ]
  },
  {
   "cell_type": "code",
   "execution_count": 12,
   "id": "1f453503",
   "metadata": {},
   "outputs": [
    {
     "name": "stderr",
     "output_type": "stream",
     "text": [
      "[*********************100%***********************]  1 of 1 completed\n"
     ]
    },
    {
     "name": "stdout",
     "output_type": "stream",
     "text": [
      "{'na_total': 'Total NA values: 0'}\n",
      "Saved: /Users/svolety/Desktop/bootcamp IV/bootcamp/project/data/raw/api_source-yfinance_symbol-CL=F_20250818-165454.csv\n"
     ]
    },
    {
     "name": "stderr",
     "output_type": "stream",
     "text": [
      "[*********************100%***********************]  1 of 1 completed\n"
     ]
    },
    {
     "name": "stdout",
     "output_type": "stream",
     "text": [
      "{'na_total': 'Total NA values: 0'}\n",
      "Saved: /Users/svolety/Desktop/bootcamp IV/bootcamp/project/data/raw/api_source-yfinance_symbol-UUP_20250818-165454.csv\n"
     ]
    },
    {
     "name": "stderr",
     "output_type": "stream",
     "text": [
      "[*********************100%***********************]  1 of 1 completed\n"
     ]
    },
    {
     "name": "stdout",
     "output_type": "stream",
     "text": [
      "{'na_total': 'Total NA values: 0'}\n",
      "Saved: /Users/svolety/Desktop/bootcamp IV/bootcamp/project/data/raw/api_source-yfinance_symbol-GLD_20250818-165454.csv\n"
     ]
    },
    {
     "name": "stderr",
     "output_type": "stream",
     "text": [
      "[*********************100%***********************]  1 of 1 completed\n"
     ]
    },
    {
     "name": "stdout",
     "output_type": "stream",
     "text": [
      "{'na_total': 'Total NA values: 0'}\n",
      "Saved: /Users/svolety/Desktop/bootcamp IV/bootcamp/project/data/raw/api_source-yfinance_symbol-^VIX_20250818-165454.csv\n"
     ]
    },
    {
     "name": "stderr",
     "output_type": "stream",
     "text": [
      "[*********************100%***********************]  1 of 1 completed\n"
     ]
    },
    {
     "name": "stdout",
     "output_type": "stream",
     "text": [
      "{'na_total': 'Total NA values: 0'}\n",
      "Saved: /Users/svolety/Desktop/bootcamp IV/bootcamp/project/data/raw/api_source-yfinance_symbol-^OVX_20250818-165455.csv\n"
     ]
    },
    {
     "name": "stderr",
     "output_type": "stream",
     "text": [
      "[*********************100%***********************]  1 of 1 completed\n"
     ]
    },
    {
     "name": "stdout",
     "output_type": "stream",
     "text": [
      "{'na_total': 'Total NA values: 0'}\n",
      "Saved: /Users/svolety/Desktop/bootcamp IV/bootcamp/project/data/raw/api_source-yfinance_symbol-SHY_20250818-165455.csv\n"
     ]
    },
    {
     "name": "stderr",
     "output_type": "stream",
     "text": [
      "[*********************100%***********************]  1 of 1 completed\n"
     ]
    },
    {
     "name": "stdout",
     "output_type": "stream",
     "text": [
      "{'na_total': 'Total NA values: 0'}\n",
      "Saved: /Users/svolety/Desktop/bootcamp IV/bootcamp/project/data/raw/api_source-yfinance_symbol-IEF_20250818-165455.csv\n"
     ]
    },
    {
     "name": "stderr",
     "output_type": "stream",
     "text": [
      "[*********************100%***********************]  1 of 1 completed"
     ]
    },
    {
     "name": "stdout",
     "output_type": "stream",
     "text": [
      "{'na_total': 'Total NA values: 0'}\n",
      "Saved: /Users/svolety/Desktop/bootcamp IV/bootcamp/project/data/raw/api_source-yfinance_symbol-TIP_20250818-165456.csv\n"
     ]
    },
    {
     "name": "stderr",
     "output_type": "stream",
     "text": [
      "\n"
     ]
    }
   ],
   "source": [
    "tickerlist = ['CL=F','UUP','GLD','^VIX','^OVX','SHY','IEF','TIP']\n",
    "use_api = False\n",
    "import yfinance as yf\n",
    "\n",
    "for ticker in tickerlist:\n",
    "    df_raw_api = yf.download(ticker, period=\"5y\", interval=\"1d\",auto_adjust=True).reset_index()[[('Date',''), ('Close',ticker)]]\n",
    "    df_raw_api.columns = ['date','adjClose']\n",
    "    df_raw_api['date'] = pd.to_datetime(df_raw_api['date'])\n",
    "    df_raw_api['adjClose']=pd.to_numeric(df_raw_api['adjClose'])\n",
    "    msg_dict = validate_df(df_raw_api,['date','adjClose'],{'date':'datetime64[ns]','adjClose':'float64'})\n",
    "    print(msg_dict)\n",
    "\n",
    "    fname = safe_filename(prefix=\"api\", meta={\"source\": \"fmp\" if use_api else \"yfinance\", \"symbol\": ticker})\n",
    "    raw_data_path = Path.cwd().parent / \"data\" / \"raw\"\n",
    "    out_path = raw_data_path / fname\n",
    "    df_raw_api.to_csv(out_path, index=False)\n",
    "    print(\"Saved:\", out_path)"
   ]
  }
 ],
 "metadata": {
  "kernelspec": {
   "display_name": "fe-course",
   "language": "python",
   "name": "python3"
  },
  "language_info": {
   "codemirror_mode": {
    "name": "ipython",
    "version": 3
   },
   "file_extension": ".py",
   "mimetype": "text/x-python",
   "name": "python",
   "nbconvert_exporter": "python",
   "pygments_lexer": "ipython3",
   "version": "3.11.13"
  }
 },
 "nbformat": 4,
 "nbformat_minor": 5
}
